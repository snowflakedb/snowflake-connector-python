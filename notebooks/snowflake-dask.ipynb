{
 "cells": [
  {
   "cell_type": "markdown",
   "metadata": {},
   "source": [
    "# Snowflake + Dask\n",
    "\n",
    "How to load data from a Snowflake table or query into a Dask dataframe"
   ]
  },
  {
   "cell_type": "markdown",
   "metadata": {},
   "source": [
    "## Connect to Snowflake\n",
    "\n",
    "See [README](README.md) for more details on how to set up the credentials file."
   ]
  },
  {
   "cell_type": "code",
   "execution_count": 1,
   "metadata": {},
   "outputs": [],
   "source": [
    "import os\n",
    "import snowflake.connector"
   ]
  },
  {
   "cell_type": "code",
   "execution_count": 46,
   "metadata": {},
   "outputs": [],
   "source": [
    "conn_info = {\n",
    "    \"warehouse\" : \"COMPUTE_WH\",\n",
    "    \"database\": \"SNOWFLAKE_SAMPLE_DATA\",\n",
    "    \"schema\": \"TPCDS_SF100TCL\",\n",
    "    \"account\": \"mf80263.us-east-2.aws\",\n",
    "    \"user\": os.environ[\"SNOWFLAKE_USER\"],\n",
    "    \"password\": os.environ[\"SNOWFLAKE_PASSWORD\"]\n",
    "}\n",
    "conn = snowflake.connector.connect(**conn_info)"
   ]
  },
  {
   "cell_type": "markdown",
   "metadata": {},
   "source": [
    "## Setup query\n",
    "\n",
    "We need to set up a query that will return chunks of the full result based on a column in the data. These become our partitions in a Dask dataframe. We use a [binding for the Snowflake query](https://docs.snowflake.com/en/user-guide/python-connector-example.html#binding-data) so that we can pass different values at execution time."
   ]
  },
  {
   "cell_type": "code",
   "execution_count": 9,
   "metadata": {},
   "outputs": [],
   "source": [
    "query = \"\"\"\n",
    "    SELECT\n",
    "        *\n",
    "    FROM\n",
    "        customer\n",
    "    LIMIT 10\n",
    "\"\"\""
   ]
  },
  {
   "cell_type": "code",
   "execution_count": 10,
   "metadata": {},
   "outputs": [
    {
     "name": "stdout",
     "output_type": "stream",
     "text": [
      "Help on method execute in module snowflake.connector.cursor:\n",
      "\n",
      "execute(command, params=None, timeout=None, _do_reset=True, _put_callback=None, _put_azure_callback=None, _put_callback_output_stream=<ipykernel.iostream.OutStream object at 0x7f5f74b8a290>, _get_callback=None, _get_azure_callback=None, _get_callback_output_stream=<ipykernel.iostream.OutStream object at 0x7f5f74b8a290>, _show_progress_bar=True, _statement_params=None, _is_internal=False, _no_results=False, _use_ijson=False, _is_put_get=None, _raise_put_get_error=True, _force_put_overwrite=False) method of snowflake.connector.cursor.SnowflakeCursor instance\n",
      "    Executes a command/query\n",
      "\n"
     ]
    }
   ],
   "source": [
    "help(conn.cursor().execute)"
   ]
  },
  {
   "cell_type": "markdown",
   "metadata": {},
   "source": [
    "Validate the query is good with pandas"
   ]
  },
  {
   "cell_type": "code",
   "execution_count": 11,
   "metadata": {},
   "outputs": [
    {
     "data": {
      "text/plain": [
       "(10, 0.001108)"
      ]
     },
     "execution_count": 11,
     "metadata": {},
     "output_type": "execute_result"
    }
   ],
   "source": [
    "cur = conn.cursor()\n",
    "df = cur.execute(command=query).fetch_pandas_all()\n",
    "len(df), df.memory_usage().sum() / 1e6  # memory size in MB"
   ]
  },
  {
   "cell_type": "code",
   "execution_count": 12,
   "metadata": {},
   "outputs": [
    {
     "data": {
      "text/html": [
       "<div>\n",
       "<style scoped>\n",
       "    .dataframe tbody tr th:only-of-type {\n",
       "        vertical-align: middle;\n",
       "    }\n",
       "\n",
       "    .dataframe tbody tr th {\n",
       "        vertical-align: top;\n",
       "    }\n",
       "\n",
       "    .dataframe thead th {\n",
       "        text-align: right;\n",
       "    }\n",
       "</style>\n",
       "<table border=\"1\" class=\"dataframe\">\n",
       "  <thead>\n",
       "    <tr style=\"text-align: right;\">\n",
       "      <th></th>\n",
       "      <th>C_CUSTOMER_SK</th>\n",
       "      <th>C_CUSTOMER_ID</th>\n",
       "      <th>C_CURRENT_CDEMO_SK</th>\n",
       "      <th>C_CURRENT_HDEMO_SK</th>\n",
       "      <th>C_CURRENT_ADDR_SK</th>\n",
       "      <th>C_FIRST_SHIPTO_DATE_SK</th>\n",
       "      <th>C_FIRST_SALES_DATE_SK</th>\n",
       "      <th>C_SALUTATION</th>\n",
       "      <th>C_FIRST_NAME</th>\n",
       "      <th>C_LAST_NAME</th>\n",
       "      <th>C_PREFERRED_CUST_FLAG</th>\n",
       "      <th>C_BIRTH_DAY</th>\n",
       "      <th>C_BIRTH_MONTH</th>\n",
       "      <th>C_BIRTH_YEAR</th>\n",
       "      <th>C_BIRTH_COUNTRY</th>\n",
       "      <th>C_LOGIN</th>\n",
       "      <th>C_EMAIL_ADDRESS</th>\n",
       "      <th>C_LAST_REVIEW_DATE</th>\n",
       "    </tr>\n",
       "  </thead>\n",
       "  <tbody>\n",
       "    <tr>\n",
       "      <th>0</th>\n",
       "      <td>94911797</td>\n",
       "      <td>AAAAAAAAFDNDIKFA</td>\n",
       "      <td>1604095</td>\n",
       "      <td>1444</td>\n",
       "      <td>4537993</td>\n",
       "      <td>2449587</td>\n",
       "      <td>2449557</td>\n",
       "      <td>Mrs.</td>\n",
       "      <td>Annie</td>\n",
       "      <td>Crawley</td>\n",
       "      <td>N</td>\n",
       "      <td>9</td>\n",
       "      <td>6</td>\n",
       "      <td>1953</td>\n",
       "      <td>NAURU</td>\n",
       "      <td>None</td>\n",
       "      <td>Annie.Crawley@T05PnHEpPs572Sp.org</td>\n",
       "      <td>2452506</td>\n",
       "    </tr>\n",
       "    <tr>\n",
       "      <th>1</th>\n",
       "      <td>94911798</td>\n",
       "      <td>AAAAAAAAGDNDIKFA</td>\n",
       "      <td>427153</td>\n",
       "      <td>5748</td>\n",
       "      <td>36805143</td>\n",
       "      <td>2449682</td>\n",
       "      <td>2449652</td>\n",
       "      <td>Mr.</td>\n",
       "      <td>Troy</td>\n",
       "      <td>Poe</td>\n",
       "      <td>N</td>\n",
       "      <td>14</td>\n",
       "      <td>6</td>\n",
       "      <td>1989</td>\n",
       "      <td>BRAZIL</td>\n",
       "      <td>None</td>\n",
       "      <td>Troy.Poe@F58FuaxTaU72Sy.edu</td>\n",
       "      <td>2452394</td>\n",
       "    </tr>\n",
       "    <tr>\n",
       "      <th>2</th>\n",
       "      <td>94911799</td>\n",
       "      <td>AAAAAAAAHDNDIKFA</td>\n",
       "      <td>68714</td>\n",
       "      <td>5386</td>\n",
       "      <td>26519305</td>\n",
       "      <td>2449270</td>\n",
       "      <td>2449240</td>\n",
       "      <td>Sir</td>\n",
       "      <td>Mark</td>\n",
       "      <td>Baker</td>\n",
       "      <td>Y</td>\n",
       "      <td>11</td>\n",
       "      <td>3</td>\n",
       "      <td>1983</td>\n",
       "      <td>BURKINA FASO</td>\n",
       "      <td>None</td>\n",
       "      <td>Mark.Baker@mF9DCZVtbVPcPuz.edu</td>\n",
       "      <td>2452532</td>\n",
       "    </tr>\n",
       "    <tr>\n",
       "      <th>3</th>\n",
       "      <td>94911800</td>\n",
       "      <td>AAAAAAAAIDNDIKFA</td>\n",
       "      <td>303248</td>\n",
       "      <td>3046</td>\n",
       "      <td>36401244</td>\n",
       "      <td>2449277</td>\n",
       "      <td>2449247</td>\n",
       "      <td>Sir</td>\n",
       "      <td>Robert</td>\n",
       "      <td>Parker</td>\n",
       "      <td>Y</td>\n",
       "      <td>2</td>\n",
       "      <td>6</td>\n",
       "      <td>1926</td>\n",
       "      <td>KIRIBATI</td>\n",
       "      <td>None</td>\n",
       "      <td>Robert.Parker@tm2MJA5YZsSoeDZqh.edu</td>\n",
       "      <td>2452513</td>\n",
       "    </tr>\n",
       "    <tr>\n",
       "      <th>4</th>\n",
       "      <td>94911801</td>\n",
       "      <td>AAAAAAAAJDNDIKFA</td>\n",
       "      <td>1404903</td>\n",
       "      <td>5226</td>\n",
       "      <td>6517996</td>\n",
       "      <td>2450908</td>\n",
       "      <td>2450878</td>\n",
       "      <td>Ms.</td>\n",
       "      <td>Diana</td>\n",
       "      <td>Adams</td>\n",
       "      <td>Y</td>\n",
       "      <td>22</td>\n",
       "      <td>5</td>\n",
       "      <td>1932</td>\n",
       "      <td>HUNGARY</td>\n",
       "      <td>None</td>\n",
       "      <td>Diana.Adams@2n.edu</td>\n",
       "      <td>2452360</td>\n",
       "    </tr>\n",
       "    <tr>\n",
       "      <th>5</th>\n",
       "      <td>94911802</td>\n",
       "      <td>AAAAAAAAKDNDIKFA</td>\n",
       "      <td>1560715</td>\n",
       "      <td>820</td>\n",
       "      <td>15056125</td>\n",
       "      <td>2450948</td>\n",
       "      <td>2450918</td>\n",
       "      <td>Sir</td>\n",
       "      <td>Robert</td>\n",
       "      <td>Jones</td>\n",
       "      <td>Y</td>\n",
       "      <td>1</td>\n",
       "      <td>10</td>\n",
       "      <td>1967</td>\n",
       "      <td>ZIMBABWE</td>\n",
       "      <td>None</td>\n",
       "      <td>Robert.Jones@dHeuQQZTqg.org</td>\n",
       "      <td>2452564</td>\n",
       "    </tr>\n",
       "    <tr>\n",
       "      <th>6</th>\n",
       "      <td>94911803</td>\n",
       "      <td>AAAAAAAALDNDIKFA</td>\n",
       "      <td>1886448</td>\n",
       "      <td>3975</td>\n",
       "      <td>17879902</td>\n",
       "      <td>2451877</td>\n",
       "      <td>2451847</td>\n",
       "      <td>Mrs.</td>\n",
       "      <td>Jennifer</td>\n",
       "      <td>Kelly</td>\n",
       "      <td>N</td>\n",
       "      <td>7</td>\n",
       "      <td>8</td>\n",
       "      <td>1985</td>\n",
       "      <td>CHILE</td>\n",
       "      <td>None</td>\n",
       "      <td>Jennifer.Kelly@6aSquozg.edu</td>\n",
       "      <td>2452421</td>\n",
       "    </tr>\n",
       "    <tr>\n",
       "      <th>7</th>\n",
       "      <td>94911804</td>\n",
       "      <td>AAAAAAAAMDNDIKFA</td>\n",
       "      <td>372497</td>\n",
       "      <td>124</td>\n",
       "      <td>40856551</td>\n",
       "      <td>2451566</td>\n",
       "      <td>2451536</td>\n",
       "      <td>Dr.</td>\n",
       "      <td>Anna</td>\n",
       "      <td>Woo</td>\n",
       "      <td>Y</td>\n",
       "      <td>27</td>\n",
       "      <td>6</td>\n",
       "      <td>1927</td>\n",
       "      <td>DJIBOUTI</td>\n",
       "      <td>None</td>\n",
       "      <td>Anna.Woo@e1.org</td>\n",
       "      <td>2452390</td>\n",
       "    </tr>\n",
       "    <tr>\n",
       "      <th>8</th>\n",
       "      <td>94911805</td>\n",
       "      <td>AAAAAAAANDNDIKFA</td>\n",
       "      <td>490712</td>\n",
       "      <td>73</td>\n",
       "      <td>12339834</td>\n",
       "      <td>2451578</td>\n",
       "      <td>2451548</td>\n",
       "      <td>Dr.</td>\n",
       "      <td>Laura</td>\n",
       "      <td>Dodge</td>\n",
       "      <td>Y</td>\n",
       "      <td>14</td>\n",
       "      <td>5</td>\n",
       "      <td>1982</td>\n",
       "      <td>LIBERIA</td>\n",
       "      <td>None</td>\n",
       "      <td>Laura.Dodge@1mfoQ8pX.edu</td>\n",
       "      <td>2452444</td>\n",
       "    </tr>\n",
       "    <tr>\n",
       "      <th>9</th>\n",
       "      <td>94911806</td>\n",
       "      <td>AAAAAAAAODNDIKFA</td>\n",
       "      <td>630274</td>\n",
       "      <td>7175</td>\n",
       "      <td>25923276</td>\n",
       "      <td>2449958</td>\n",
       "      <td>2449928</td>\n",
       "      <td>Ms.</td>\n",
       "      <td>Lisa</td>\n",
       "      <td>Morris</td>\n",
       "      <td>Y</td>\n",
       "      <td>15</td>\n",
       "      <td>8</td>\n",
       "      <td>1953</td>\n",
       "      <td>RWANDA</td>\n",
       "      <td>None</td>\n",
       "      <td>Lisa.Morris@ghpoc7XulHz1mN4.com</td>\n",
       "      <td>2452352</td>\n",
       "    </tr>\n",
       "  </tbody>\n",
       "</table>\n",
       "</div>"
      ],
      "text/plain": [
       "   C_CUSTOMER_SK     C_CUSTOMER_ID  C_CURRENT_CDEMO_SK  C_CURRENT_HDEMO_SK  \\\n",
       "0       94911797  AAAAAAAAFDNDIKFA             1604095                1444   \n",
       "1       94911798  AAAAAAAAGDNDIKFA              427153                5748   \n",
       "2       94911799  AAAAAAAAHDNDIKFA               68714                5386   \n",
       "3       94911800  AAAAAAAAIDNDIKFA              303248                3046   \n",
       "4       94911801  AAAAAAAAJDNDIKFA             1404903                5226   \n",
       "5       94911802  AAAAAAAAKDNDIKFA             1560715                 820   \n",
       "6       94911803  AAAAAAAALDNDIKFA             1886448                3975   \n",
       "7       94911804  AAAAAAAAMDNDIKFA              372497                 124   \n",
       "8       94911805  AAAAAAAANDNDIKFA              490712                  73   \n",
       "9       94911806  AAAAAAAAODNDIKFA              630274                7175   \n",
       "\n",
       "   C_CURRENT_ADDR_SK  C_FIRST_SHIPTO_DATE_SK  C_FIRST_SALES_DATE_SK  \\\n",
       "0            4537993                 2449587                2449557   \n",
       "1           36805143                 2449682                2449652   \n",
       "2           26519305                 2449270                2449240   \n",
       "3           36401244                 2449277                2449247   \n",
       "4            6517996                 2450908                2450878   \n",
       "5           15056125                 2450948                2450918   \n",
       "6           17879902                 2451877                2451847   \n",
       "7           40856551                 2451566                2451536   \n",
       "8           12339834                 2451578                2451548   \n",
       "9           25923276                 2449958                2449928   \n",
       "\n",
       "  C_SALUTATION C_FIRST_NAME C_LAST_NAME C_PREFERRED_CUST_FLAG  C_BIRTH_DAY  \\\n",
       "0         Mrs.        Annie     Crawley                     N            9   \n",
       "1          Mr.         Troy         Poe                     N           14   \n",
       "2          Sir         Mark       Baker                     Y           11   \n",
       "3          Sir       Robert      Parker                     Y            2   \n",
       "4          Ms.        Diana       Adams                     Y           22   \n",
       "5          Sir       Robert       Jones                     Y            1   \n",
       "6         Mrs.     Jennifer       Kelly                     N            7   \n",
       "7          Dr.         Anna         Woo                     Y           27   \n",
       "8          Dr.        Laura       Dodge                     Y           14   \n",
       "9          Ms.         Lisa      Morris                     Y           15   \n",
       "\n",
       "   C_BIRTH_MONTH  C_BIRTH_YEAR C_BIRTH_COUNTRY C_LOGIN  \\\n",
       "0              6          1953           NAURU    None   \n",
       "1              6          1989          BRAZIL    None   \n",
       "2              3          1983    BURKINA FASO    None   \n",
       "3              6          1926        KIRIBATI    None   \n",
       "4              5          1932         HUNGARY    None   \n",
       "5             10          1967        ZIMBABWE    None   \n",
       "6              8          1985           CHILE    None   \n",
       "7              6          1927        DJIBOUTI    None   \n",
       "8              5          1982         LIBERIA    None   \n",
       "9              8          1953          RWANDA    None   \n",
       "\n",
       "                       C_EMAIL_ADDRESS C_LAST_REVIEW_DATE  \n",
       "0    Annie.Crawley@T05PnHEpPs572Sp.org            2452506  \n",
       "1          Troy.Poe@F58FuaxTaU72Sy.edu            2452394  \n",
       "2       Mark.Baker@mF9DCZVtbVPcPuz.edu            2452532  \n",
       "3  Robert.Parker@tm2MJA5YZsSoeDZqh.edu            2452513  \n",
       "4                   Diana.Adams@2n.edu            2452360  \n",
       "5          Robert.Jones@dHeuQQZTqg.org            2452564  \n",
       "6          Jennifer.Kelly@6aSquozg.edu            2452421  \n",
       "7                      Anna.Woo@e1.org            2452390  \n",
       "8             Laura.Dodge@1mfoQ8pX.edu            2452444  \n",
       "9      Lisa.Morris@ghpoc7XulHz1mN4.com            2452352  "
      ]
     },
     "execution_count": 12,
     "metadata": {},
     "output_type": "execute_result"
    }
   ],
   "source": [
    "df"
   ]
  },
  {
   "cell_type": "markdown",
   "metadata": {},
   "source": [
    "## Initialize Dask cluster"
   ]
  },
  {
   "cell_type": "code",
   "execution_count": 13,
   "metadata": {},
   "outputs": [
    {
     "name": "stdout",
     "output_type": "stream",
     "text": [
      "[2020-09-04 19:57:05] INFO - dask-saturn | Starting cluster. Status: pending\n",
      "[2020-09-04 19:57:12] INFO - dask-saturn | Starting cluster. Status: pending\n",
      "[2020-09-04 19:57:31] INFO - dask-saturn | Starting cluster. Status: pending\n",
      "[2020-09-04 19:57:52] INFO - dask-saturn | Starting cluster. Status: pending\n",
      "[2020-09-04 19:58:26] INFO - dask-saturn | Starting cluster. Status: pending\n",
      "[2020-09-04 19:59:20] INFO - dask-saturn | Starting cluster. Status: pending\n",
      "[2020-09-04 20:00:04] INFO - dask-saturn | Starting cluster. Status: pending\n",
      "[2020-09-04 20:00:35] INFO - dask-saturn | Starting cluster. Status: pending\n",
      "[2020-09-04 20:01:30] INFO - dask-saturn | Cluster is ready\n"
     ]
    },
    {
     "data": {
      "application/vnd.jupyter.widget-view+json": {
       "model_id": "6565221be13d4a3db867988a2820e13f",
       "version_major": 2,
       "version_minor": 0
      },
      "text/plain": [
       "VBox(children=(HTML(value='<h2>SaturnCluster</h2>'), HBox(children=(HTML(value='\\n<div>\\n  <style scoped>\\n   …"
      ]
     },
     "metadata": {},
     "output_type": "display_data"
    }
   ],
   "source": [
    "from dask.distributed import Client, wait\n",
    "from dask_saturn import SaturnCluster\n",
    "import time\n",
    "\n",
    "n_workers = 4\n",
    "cluster = SaturnCluster(\n",
    "    n_workers=n_workers,\n",
    "    scheduler_size='medium',\n",
    "    worker_size='xlarge',\n",
    "    nthreads=2\n",
    ")\n",
    "client = Client(cluster)\n",
    "cluster"
   ]
  },
  {
   "cell_type": "markdown",
   "metadata": {},
   "source": [
    "If you initialized your cluster here in this notebook, it might take a few minutes for all your nodes to become available. You can run the chunk below to block until all nodes are ready\n",
    "\n",
    "> **Pro tip:** Create and/or start your cluster from the \"Dask\" page in Saturn if you want to get a head start!"
   ]
  },
  {
   "cell_type": "code",
   "execution_count": 14,
   "metadata": {},
   "outputs": [
    {
     "name": "stdout",
     "output_type": "stream",
     "text": [
      "Waiting for workers, got 0\n",
      "Done!\n"
     ]
    }
   ],
   "source": [
    "while len(client.scheduler_info()['workers']) < n_workers:\n",
    "    print('Waiting for workers, got', len(client.scheduler_info()['workers']))\n",
    "    time.sleep(30)\n",
    "print('Done!')"
   ]
  },
  {
   "cell_type": "code",
   "execution_count": 15,
   "metadata": {},
   "outputs": [],
   "source": [
    "import dask.dataframe as dd"
   ]
  },
  {
   "cell_type": "markdown",
   "metadata": {},
   "source": [
    "## Load larger data with Dask!\n",
    "\n",
    "We set up a function with `dask.delayed`. `@delayed` is a decorator that turns a Python function into a function suitable for running on the Dask cluster. When you execute a delayed function, instead of executing the operation, it returns a delayed result that represents what the return value of the function will be. `dask.dataframe.from_delayed` takes a list of these delayed objects, and concatenates them into a Dask dataframe."
   ]
  },
  {
   "cell_type": "code",
   "execution_count": null,
   "metadata": {},
   "outputs": [],
   "source": []
  },
  {
   "cell_type": "code",
   "execution_count": 39,
   "metadata": {},
   "outputs": [],
   "source": [
    "query = \"\"\"\n",
    "    SELECT\n",
    "        *\n",
    "    FROM\n",
    "        customer\n",
    "    WHERE\n",
    "        C_BIRTH_DAY = %s\n",
    "    LIMIT 100\n",
    "    \"\"\""
   ]
  },
  {
   "cell_type": "code",
   "execution_count": 79,
   "metadata": {},
   "outputs": [],
   "source": [
    "cur = conn.cursor()\n",
    "x = cur.execute(query, 1)"
   ]
  },
  {
   "cell_type": "code",
   "execution_count": 85,
   "metadata": {},
   "outputs": [],
   "source": [
    "# relevant files\n",
    "# * https://github.com/snowflakedb/snowflake-connector-python/blob/c058e205a34c2ce2971769fc790ffe0bce552023/src/snowflake/connector/cursor.py\n",
    "# * https://github.com/snowflakedb/snowflake-connector-python/blob/0cf126e0791787d9841bb4849feb781597e8671f/src/snowflake/connector/chunk_downloader.py\n",
    "# * https://github.com/snowflakedb/snowflake-connector-python/blob/0cf126e0791787d9841bb4849feb781597e8671f/src/snowflake/connector/arrow_result.pyx"
   ]
  },
  {
   "cell_type": "code",
   "execution_count": 84,
   "metadata": {},
   "outputs": [
    {
     "data": {
      "text/html": [
       "<div>\n",
       "<style scoped>\n",
       "    .dataframe tbody tr th:only-of-type {\n",
       "        vertical-align: middle;\n",
       "    }\n",
       "\n",
       "    .dataframe tbody tr th {\n",
       "        vertical-align: top;\n",
       "    }\n",
       "\n",
       "    .dataframe thead th {\n",
       "        text-align: right;\n",
       "    }\n",
       "</style>\n",
       "<table border=\"1\" class=\"dataframe\">\n",
       "  <thead>\n",
       "    <tr style=\"text-align: right;\">\n",
       "      <th></th>\n",
       "      <th>C_BIRTH_DAY</th>\n",
       "    </tr>\n",
       "  </thead>\n",
       "  <tbody>\n",
       "    <tr>\n",
       "      <th>0</th>\n",
       "      <td>1</td>\n",
       "    </tr>\n",
       "    <tr>\n",
       "      <th>1</th>\n",
       "      <td>1</td>\n",
       "    </tr>\n",
       "    <tr>\n",
       "      <th>2</th>\n",
       "      <td>1</td>\n",
       "    </tr>\n",
       "    <tr>\n",
       "      <th>3</th>\n",
       "      <td>1</td>\n",
       "    </tr>\n",
       "    <tr>\n",
       "      <th>4</th>\n",
       "      <td>1</td>\n",
       "    </tr>\n",
       "    <tr>\n",
       "      <th>...</th>\n",
       "      <td>...</td>\n",
       "    </tr>\n",
       "    <tr>\n",
       "      <th>95</th>\n",
       "      <td>1</td>\n",
       "    </tr>\n",
       "    <tr>\n",
       "      <th>96</th>\n",
       "      <td>1</td>\n",
       "    </tr>\n",
       "    <tr>\n",
       "      <th>97</th>\n",
       "      <td>1</td>\n",
       "    </tr>\n",
       "    <tr>\n",
       "      <th>98</th>\n",
       "      <td>1</td>\n",
       "    </tr>\n",
       "    <tr>\n",
       "      <th>99</th>\n",
       "      <td>1</td>\n",
       "    </tr>\n",
       "  </tbody>\n",
       "</table>\n",
       "<p>100 rows × 1 columns</p>\n",
       "</div>"
      ],
      "text/plain": [
       "    C_BIRTH_DAY\n",
       "0             1\n",
       "1             1\n",
       "2             1\n",
       "3             1\n",
       "4             1\n",
       "..          ...\n",
       "95            1\n",
       "96            1\n",
       "97            1\n",
       "98            1\n",
       "99            1\n",
       "\n",
       "[100 rows x 1 columns]"
      ]
     },
     "execution_count": 84,
     "metadata": {},
     "output_type": "execute_result"
    }
   ],
   "source": [
    "x._result._fetch_pandas_all()"
   ]
  },
  {
   "cell_type": "code",
   "execution_count": 77,
   "metadata": {},
   "outputs": [],
   "source": [
    "cur.check_can_use_arrow_resultset()"
   ]
  },
  {
   "cell_type": "code",
   "execution_count": 47,
   "metadata": {},
   "outputs": [],
   "source": [
    "from dask import delayed\n",
    "import dask.dataframe as dd\n",
    "\n",
    "@delayed\n",
    "def get_chunk(conn_info, query, day_of_month):\n",
    "    conn = snowflake.connector.connect(**conn_info)\n",
    "    cur = conn.cursor().execute(query, day_of_month)\n",
    "    return cur.fetch_pandas_all()"
   ]
  },
  {
   "cell_type": "markdown",
   "metadata": {},
   "source": [
    "Notice that now `ddf` has 3 partitions, corresponding to the 3 days we chose to load"
   ]
  },
  {
   "cell_type": "code",
   "execution_count": 59,
   "metadata": {},
   "outputs": [
    {
     "data": {
      "text/html": [
       "<div><strong>Dask DataFrame Structure:</strong></div>\n",
       "<div>\n",
       "<style scoped>\n",
       "    .dataframe tbody tr th:only-of-type {\n",
       "        vertical-align: middle;\n",
       "    }\n",
       "\n",
       "    .dataframe tbody tr th {\n",
       "        vertical-align: top;\n",
       "    }\n",
       "\n",
       "    .dataframe thead th {\n",
       "        text-align: right;\n",
       "    }\n",
       "</style>\n",
       "<table border=\"1\" class=\"dataframe\">\n",
       "  <thead>\n",
       "    <tr style=\"text-align: right;\">\n",
       "      <th></th>\n",
       "      <th>C_BIRTH_DAY</th>\n",
       "    </tr>\n",
       "    <tr>\n",
       "      <th>npartitions=5</th>\n",
       "      <th></th>\n",
       "    </tr>\n",
       "  </thead>\n",
       "  <tbody>\n",
       "    <tr>\n",
       "      <th></th>\n",
       "      <td>int8</td>\n",
       "    </tr>\n",
       "    <tr>\n",
       "      <th></th>\n",
       "      <td>...</td>\n",
       "    </tr>\n",
       "    <tr>\n",
       "      <th>...</th>\n",
       "      <td>...</td>\n",
       "    </tr>\n",
       "    <tr>\n",
       "      <th></th>\n",
       "      <td>...</td>\n",
       "    </tr>\n",
       "    <tr>\n",
       "      <th></th>\n",
       "      <td>...</td>\n",
       "    </tr>\n",
       "  </tbody>\n",
       "</table>\n",
       "</div>\n",
       "<div>Dask Name: from-delayed, 10 tasks</div>"
      ],
      "text/plain": [
       "Dask DataFrame Structure:\n",
       "              C_BIRTH_DAY\n",
       "npartitions=5            \n",
       "                     int8\n",
       "                      ...\n",
       "...                   ...\n",
       "                      ...\n",
       "                      ...\n",
       "Dask Name: from-delayed, 10 tasks"
      ]
     },
     "execution_count": 59,
     "metadata": {},
     "output_type": "execute_result"
    }
   ],
   "source": [
    "from dask import delayed\n",
    "import dask.dataframe as dd\n",
    "\n",
    "query = \"\"\"\n",
    "    SELECT\n",
    "        C_BIRTH_DAY\n",
    "    FROM\n",
    "        customer\n",
    "    WHERE\n",
    "        C_BIRTH_DAY = %s\n",
    "    LIMIT 100\n",
    "    \"\"\"\n",
    "\n",
    "@delayed\n",
    "def get_chunk(conn_info, query, day_of_month):\n",
    "    conn = snowflake.connector.connect(**conn_info)\n",
    "    cur = conn.cursor().execute(query, day_of_month)\n",
    "    return cur.fetch_pandas_all()\n",
    "\n",
    "ddf = dd.from_delayed(\n",
    "    [\n",
    "        get_chunk(conn_info, query, day_of_month)\n",
    "        for day_of_month in range(10, 15)\n",
    "    ],\n",
    ")\n",
    "ddf"
   ]
  },
  {
   "cell_type": "markdown",
   "metadata": {},
   "source": [
    "<br>\n",
    "The cell below will execute the Snowflake queries across the cluster and compute the length and size of each partition"
   ]
  },
  {
   "cell_type": "code",
   "execution_count": 60,
   "metadata": {},
   "outputs": [
    {
     "data": {
      "text/plain": [
       "(500, 0.00114)"
      ]
     },
     "execution_count": 60,
     "metadata": {},
     "output_type": "execute_result"
    }
   ],
   "source": [
    "len(ddf), ddf.memory_usage().sum().compute() / 1e6"
   ]
  },
  {
   "cell_type": "markdown",
   "metadata": {},
   "source": [
    "The partitions in the Dask dataframe are pandas dataframes"
   ]
  },
  {
   "cell_type": "code",
   "execution_count": null,
   "metadata": {},
   "outputs": [],
   "source": [
    "ddf_part = ddf.partitions[0].compute()\n",
    "type(ddf_part)"
   ]
  },
  {
   "cell_type": "markdown",
   "metadata": {},
   "source": [
    "If we are performing a lot of operations using this Dask dataframe (such as training a machine learning model), and the data will fit in the memory of the _cluster_, we should `persist()` the dataframe to perform all the loading up-front."
   ]
  },
  {
   "cell_type": "code",
   "execution_count": null,
   "metadata": {},
   "outputs": [],
   "source": [
    "from dask.distributed import wait\n",
    "\n",
    "ddf = ddf.persist()\n",
    "_ = wait(ddf)"
   ]
  }
 ],
 "metadata": {
  "kernelspec": {
   "display_name": "Python 3",
   "language": "python",
   "name": "python3"
  },
  "language_info": {
   "codemirror_mode": {
    "name": "ipython",
    "version": 3
   },
   "file_extension": ".py",
   "mimetype": "text/x-python",
   "name": "python",
   "nbconvert_exporter": "python",
   "pygments_lexer": "ipython3",
   "version": "3.7.7"
  }
 },
 "nbformat": 4,
 "nbformat_minor": 4
}
